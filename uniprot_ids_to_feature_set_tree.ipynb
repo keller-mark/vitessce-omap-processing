{
 "cells": [
  {
   "cell_type": "code",
   "execution_count": 1,
   "id": "214293b1-8049-409e-a6c5-e14aeb2a2c44",
   "metadata": {
    "tags": []
   },
   "outputs": [],
   "source": [
    "uniprot_id_col = \"\"\"\n",
    "P10645\n",
    "P01275\n",
    "P01308\n",
    "P01298\n",
    "P61278\n",
    "P16284\n",
    "P62736\n",
    "P08670\n",
    "-\n",
    "P35222\n",
    "P08727\n",
    "P12830\n",
    "P10997\n",
    "O75355\n",
    "P01903, P01911\n",
    "P05023\n",
    "Q9UBU3\n",
    "P08247\n",
    "P04264, P35908, P12035, P19013, P13647, P02538, P04259, P48668, P08729, P05787, P13645, P02533, P19012, P08779, P08727\n",
    "P28906\n",
    "P15391\n",
    "P20702\n",
    "P08575\n",
    "P01730\n",
    "P01732\n",
    "P07766\n",
    "P55008\n",
    "P43121\n",
    "\"\"\""
   ]
  },
  {
   "cell_type": "code",
   "execution_count": 3,
   "id": "a4fd856d-1eec-4982-90c7-f77f41c25257",
   "metadata": {
    "tags": []
   },
   "outputs": [],
   "source": [
    "# TODO: for each non-empty row, generate a feature set containing the row items.\n",
    "# map items to uniprot identifiers by using the `uniprot:` prefix.\n",
    "# as proposed at https://github.com/vitessce/vitessce/issues/1390"
   ]
  },
  {
   "cell_type": "code",
   "execution_count": 4,
   "id": "d0911740-1cda-4104-b8ab-87649619f475",
   "metadata": {
    "tags": []
   },
   "outputs": [],
   "source": [
    "# TODO: then, create a mapping between cell sets and feature sets as proposed at https://github.com/vitessce/vitessce/issues/1517"
   ]
  },
  {
   "cell_type": "code",
   "execution_count": null,
   "id": "dde0db74-f123-4303-b11f-7d8f1c4af548",
   "metadata": {},
   "outputs": [],
   "source": []
  }
 ],
 "metadata": {
  "kernelspec": {
   "display_name": "Python 3 (ipykernel)",
   "language": "python",
   "name": "python3"
  },
  "language_info": {
   "codemirror_mode": {
    "name": "ipython",
    "version": 3
   },
   "file_extension": ".py",
   "mimetype": "text/x-python",
   "name": "python",
   "nbconvert_exporter": "python",
   "pygments_lexer": "ipython3",
   "version": "3.11.3"
  }
 },
 "nbformat": 4,
 "nbformat_minor": 5
}
